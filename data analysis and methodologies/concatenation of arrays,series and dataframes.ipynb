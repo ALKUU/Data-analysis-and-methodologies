{
 "cells": [
  {
   "cell_type": "code",
   "execution_count": 1,
   "metadata": {},
   "outputs": [],
   "source": [
    "import numpy as np\n",
    "import pandas as pd\n",
    "from pandas import Series,DataFrame"
   ]
  },
  {
   "cell_type": "code",
   "execution_count": 3,
   "metadata": {},
   "outputs": [
    {
     "name": "stdout",
     "output_type": "stream",
     "text": [
      "[[ 0  1  2  3  4]\n",
      " [ 5  6  7  8  9]\n",
      " [10 11 12 13 14]\n",
      " [15 16 17 18 19]\n",
      " [20 21 22 23 24]]\n",
      "[[-4.82355383e-01  1.82696501e-03  2.01785546e-01 -5.46640581e-01\n",
      "  -1.77458909e+00]\n",
      " [ 1.10070604e+00 -2.21049591e-01  1.11914009e+00 -1.69298386e+00\n",
      "  -9.57776858e-01]\n",
      " [ 7.09931614e-01  1.57015299e+00  4.30946599e-01 -1.42949585e-01\n",
      "   1.60400346e-01]\n",
      " [-3.05129970e-01  1.07256843e-01 -1.10517165e+00 -1.14982970e+00\n",
      "   6.57344954e-01]\n",
      " [-8.38683198e-01  1.57764254e+00 -4.69748344e-01 -3.30162846e-01\n",
      "  -2.02727340e+00]]\n"
     ]
    }
   ],
   "source": [
    "A1=np.arange(25).reshape(5,5)\n",
    "B1=np.random.randn(25).reshape(5,5)\n",
    "print(A1)\n",
    "print(B1)"
   ]
  },
  {
   "cell_type": "code",
   "execution_count": 4,
   "metadata": {},
   "outputs": [
    {
     "data": {
      "text/plain": [
       "array([[ 0.00000000e+00,  1.00000000e+00,  2.00000000e+00,\n",
       "         3.00000000e+00,  4.00000000e+00, -4.82355383e-01,\n",
       "         1.82696501e-03,  2.01785546e-01, -5.46640581e-01,\n",
       "        -1.77458909e+00],\n",
       "       [ 5.00000000e+00,  6.00000000e+00,  7.00000000e+00,\n",
       "         8.00000000e+00,  9.00000000e+00,  1.10070604e+00,\n",
       "        -2.21049591e-01,  1.11914009e+00, -1.69298386e+00,\n",
       "        -9.57776858e-01],\n",
       "       [ 1.00000000e+01,  1.10000000e+01,  1.20000000e+01,\n",
       "         1.30000000e+01,  1.40000000e+01,  7.09931614e-01,\n",
       "         1.57015299e+00,  4.30946599e-01, -1.42949585e-01,\n",
       "         1.60400346e-01],\n",
       "       [ 1.50000000e+01,  1.60000000e+01,  1.70000000e+01,\n",
       "         1.80000000e+01,  1.90000000e+01, -3.05129970e-01,\n",
       "         1.07256843e-01, -1.10517165e+00, -1.14982970e+00,\n",
       "         6.57344954e-01],\n",
       "       [ 2.00000000e+01,  2.10000000e+01,  2.20000000e+01,\n",
       "         2.30000000e+01,  2.40000000e+01, -8.38683198e-01,\n",
       "         1.57764254e+00, -4.69748344e-01, -3.30162846e-01,\n",
       "        -2.02727340e+00]])"
      ]
     },
     "execution_count": 4,
     "metadata": {},
     "output_type": "execute_result"
    }
   ],
   "source": [
    "np.concatenate([A1,B1],axis=1)"
   ]
  },
  {
   "cell_type": "code",
   "execution_count": 7,
   "metadata": {},
   "outputs": [
    {
     "name": "stdout",
     "output_type": "stream",
     "text": [
      "A    100\n",
      "B    200\n",
      "C    300\n",
      "dtype: int64\n",
      "D    400\n",
      "E    500\n",
      "dtype: int64\n"
     ]
    }
   ],
   "source": [
    "s1=Series([100,200,300],index=list('ABC'))\n",
    "s2=Series([400,500],index=list('DE'))\n",
    "print(s1)\n",
    "print(s2)"
   ]
  },
  {
   "cell_type": "code",
   "execution_count": 8,
   "metadata": {},
   "outputs": [
    {
     "data": {
      "text/plain": [
       "A    100\n",
       "B    200\n",
       "C    300\n",
       "D    400\n",
       "E    500\n",
       "dtype: int64"
      ]
     },
     "execution_count": 8,
     "metadata": {},
     "output_type": "execute_result"
    }
   ],
   "source": [
    "pd.concat([s1,s2])"
   ]
  },
  {
   "cell_type": "code",
   "execution_count": 9,
   "metadata": {},
   "outputs": [
    {
     "data": {
      "text/html": [
       "<div>\n",
       "<style scoped>\n",
       "    .dataframe tbody tr th:only-of-type {\n",
       "        vertical-align: middle;\n",
       "    }\n",
       "\n",
       "    .dataframe tbody tr th {\n",
       "        vertical-align: top;\n",
       "    }\n",
       "\n",
       "    .dataframe thead th {\n",
       "        text-align: right;\n",
       "    }\n",
       "</style>\n",
       "<table border=\"1\" class=\"dataframe\">\n",
       "  <thead>\n",
       "    <tr style=\"text-align: right;\">\n",
       "      <th></th>\n",
       "      <th>0</th>\n",
       "      <th>1</th>\n",
       "    </tr>\n",
       "  </thead>\n",
       "  <tbody>\n",
       "    <tr>\n",
       "      <th>A</th>\n",
       "      <td>100.0</td>\n",
       "      <td>NaN</td>\n",
       "    </tr>\n",
       "    <tr>\n",
       "      <th>B</th>\n",
       "      <td>200.0</td>\n",
       "      <td>NaN</td>\n",
       "    </tr>\n",
       "    <tr>\n",
       "      <th>C</th>\n",
       "      <td>300.0</td>\n",
       "      <td>NaN</td>\n",
       "    </tr>\n",
       "    <tr>\n",
       "      <th>D</th>\n",
       "      <td>NaN</td>\n",
       "      <td>400.0</td>\n",
       "    </tr>\n",
       "    <tr>\n",
       "      <th>E</th>\n",
       "      <td>NaN</td>\n",
       "      <td>500.0</td>\n",
       "    </tr>\n",
       "  </tbody>\n",
       "</table>\n",
       "</div>"
      ],
      "text/plain": [
       "       0      1\n",
       "A  100.0    NaN\n",
       "B  200.0    NaN\n",
       "C  300.0    NaN\n",
       "D    NaN  400.0\n",
       "E    NaN  500.0"
      ]
     },
     "execution_count": 9,
     "metadata": {},
     "output_type": "execute_result"
    }
   ],
   "source": [
    "pd.concat([s1,s2],axis=1)"
   ]
  },
  {
   "cell_type": "code",
   "execution_count": 10,
   "metadata": {},
   "outputs": [
    {
     "name": "stdout",
     "output_type": "stream",
     "text": [
      "          A         B         C\n",
      "0 -0.674176  0.862655 -0.104141\n",
      "1 -0.337629 -0.672394  0.813563\n",
      "2  0.351504  1.581076 -0.291674\n",
      "3 -1.579043  0.762681  1.012506\n",
      "          A         B         D\n",
      "0 -0.727457  0.455316  0.311505\n",
      "1  0.966207 -0.331935 -1.136500\n",
      "2  1.141235  0.482590 -0.710857\n"
     ]
    }
   ],
   "source": [
    "df1=DataFrame(np.random.randn(12).reshape(4,3),columns=list('ABC'))\n",
    "df2=DataFrame(np.random.randn(9).reshape(3,3),columns=list('ABD'))\n",
    "print(df1)\n",
    "print(df2)"
   ]
  },
  {
   "cell_type": "code",
   "execution_count": 11,
   "metadata": {},
   "outputs": [
    {
     "data": {
      "text/html": [
       "<div>\n",
       "<style scoped>\n",
       "    .dataframe tbody tr th:only-of-type {\n",
       "        vertical-align: middle;\n",
       "    }\n",
       "\n",
       "    .dataframe tbody tr th {\n",
       "        vertical-align: top;\n",
       "    }\n",
       "\n",
       "    .dataframe thead th {\n",
       "        text-align: right;\n",
       "    }\n",
       "</style>\n",
       "<table border=\"1\" class=\"dataframe\">\n",
       "  <thead>\n",
       "    <tr style=\"text-align: right;\">\n",
       "      <th></th>\n",
       "      <th>A</th>\n",
       "      <th>B</th>\n",
       "      <th>C</th>\n",
       "      <th>D</th>\n",
       "    </tr>\n",
       "  </thead>\n",
       "  <tbody>\n",
       "    <tr>\n",
       "      <th>0</th>\n",
       "      <td>-0.674176</td>\n",
       "      <td>0.862655</td>\n",
       "      <td>-0.104141</td>\n",
       "      <td>NaN</td>\n",
       "    </tr>\n",
       "    <tr>\n",
       "      <th>1</th>\n",
       "      <td>-0.337629</td>\n",
       "      <td>-0.672394</td>\n",
       "      <td>0.813563</td>\n",
       "      <td>NaN</td>\n",
       "    </tr>\n",
       "    <tr>\n",
       "      <th>2</th>\n",
       "      <td>0.351504</td>\n",
       "      <td>1.581076</td>\n",
       "      <td>-0.291674</td>\n",
       "      <td>NaN</td>\n",
       "    </tr>\n",
       "    <tr>\n",
       "      <th>3</th>\n",
       "      <td>-1.579043</td>\n",
       "      <td>0.762681</td>\n",
       "      <td>1.012506</td>\n",
       "      <td>NaN</td>\n",
       "    </tr>\n",
       "    <tr>\n",
       "      <th>0</th>\n",
       "      <td>-0.727457</td>\n",
       "      <td>0.455316</td>\n",
       "      <td>NaN</td>\n",
       "      <td>0.311505</td>\n",
       "    </tr>\n",
       "    <tr>\n",
       "      <th>1</th>\n",
       "      <td>0.966207</td>\n",
       "      <td>-0.331935</td>\n",
       "      <td>NaN</td>\n",
       "      <td>-1.136500</td>\n",
       "    </tr>\n",
       "    <tr>\n",
       "      <th>2</th>\n",
       "      <td>1.141235</td>\n",
       "      <td>0.482590</td>\n",
       "      <td>NaN</td>\n",
       "      <td>-0.710857</td>\n",
       "    </tr>\n",
       "  </tbody>\n",
       "</table>\n",
       "</div>"
      ],
      "text/plain": [
       "          A         B         C         D\n",
       "0 -0.674176  0.862655 -0.104141       NaN\n",
       "1 -0.337629 -0.672394  0.813563       NaN\n",
       "2  0.351504  1.581076 -0.291674       NaN\n",
       "3 -1.579043  0.762681  1.012506       NaN\n",
       "0 -0.727457  0.455316       NaN  0.311505\n",
       "1  0.966207 -0.331935       NaN -1.136500\n",
       "2  1.141235  0.482590       NaN -0.710857"
      ]
     },
     "execution_count": 11,
     "metadata": {},
     "output_type": "execute_result"
    }
   ],
   "source": [
    "pd.concat([df1,df2])"
   ]
  },
  {
   "cell_type": "code",
   "execution_count": 12,
   "metadata": {},
   "outputs": [
    {
     "data": {
      "text/html": [
       "<div>\n",
       "<style scoped>\n",
       "    .dataframe tbody tr th:only-of-type {\n",
       "        vertical-align: middle;\n",
       "    }\n",
       "\n",
       "    .dataframe tbody tr th {\n",
       "        vertical-align: top;\n",
       "    }\n",
       "\n",
       "    .dataframe thead th {\n",
       "        text-align: right;\n",
       "    }\n",
       "</style>\n",
       "<table border=\"1\" class=\"dataframe\">\n",
       "  <thead>\n",
       "    <tr style=\"text-align: right;\">\n",
       "      <th></th>\n",
       "      <th>A</th>\n",
       "      <th>B</th>\n",
       "      <th>C</th>\n",
       "      <th>D</th>\n",
       "    </tr>\n",
       "  </thead>\n",
       "  <tbody>\n",
       "    <tr>\n",
       "      <th>0</th>\n",
       "      <td>-0.674176</td>\n",
       "      <td>0.862655</td>\n",
       "      <td>-0.104141</td>\n",
       "      <td>NaN</td>\n",
       "    </tr>\n",
       "    <tr>\n",
       "      <th>1</th>\n",
       "      <td>-0.337629</td>\n",
       "      <td>-0.672394</td>\n",
       "      <td>0.813563</td>\n",
       "      <td>NaN</td>\n",
       "    </tr>\n",
       "    <tr>\n",
       "      <th>2</th>\n",
       "      <td>0.351504</td>\n",
       "      <td>1.581076</td>\n",
       "      <td>-0.291674</td>\n",
       "      <td>NaN</td>\n",
       "    </tr>\n",
       "    <tr>\n",
       "      <th>3</th>\n",
       "      <td>-1.579043</td>\n",
       "      <td>0.762681</td>\n",
       "      <td>1.012506</td>\n",
       "      <td>NaN</td>\n",
       "    </tr>\n",
       "    <tr>\n",
       "      <th>4</th>\n",
       "      <td>-0.727457</td>\n",
       "      <td>0.455316</td>\n",
       "      <td>NaN</td>\n",
       "      <td>0.311505</td>\n",
       "    </tr>\n",
       "    <tr>\n",
       "      <th>5</th>\n",
       "      <td>0.966207</td>\n",
       "      <td>-0.331935</td>\n",
       "      <td>NaN</td>\n",
       "      <td>-1.136500</td>\n",
       "    </tr>\n",
       "    <tr>\n",
       "      <th>6</th>\n",
       "      <td>1.141235</td>\n",
       "      <td>0.482590</td>\n",
       "      <td>NaN</td>\n",
       "      <td>-0.710857</td>\n",
       "    </tr>\n",
       "  </tbody>\n",
       "</table>\n",
       "</div>"
      ],
      "text/plain": [
       "          A         B         C         D\n",
       "0 -0.674176  0.862655 -0.104141       NaN\n",
       "1 -0.337629 -0.672394  0.813563       NaN\n",
       "2  0.351504  1.581076 -0.291674       NaN\n",
       "3 -1.579043  0.762681  1.012506       NaN\n",
       "4 -0.727457  0.455316       NaN  0.311505\n",
       "5  0.966207 -0.331935       NaN -1.136500\n",
       "6  1.141235  0.482590       NaN -0.710857"
      ]
     },
     "execution_count": 12,
     "metadata": {},
     "output_type": "execute_result"
    }
   ],
   "source": [
    "pd.concat([df1,df2],ignore_index=True)"
   ]
  },
  {
   "cell_type": "code",
   "execution_count": 13,
   "metadata": {},
   "outputs": [
    {
     "data": {
      "text/html": [
       "<div>\n",
       "<style scoped>\n",
       "    .dataframe tbody tr th:only-of-type {\n",
       "        vertical-align: middle;\n",
       "    }\n",
       "\n",
       "    .dataframe tbody tr th {\n",
       "        vertical-align: top;\n",
       "    }\n",
       "\n",
       "    .dataframe thead th {\n",
       "        text-align: right;\n",
       "    }\n",
       "</style>\n",
       "<table border=\"1\" class=\"dataframe\">\n",
       "  <thead>\n",
       "    <tr style=\"text-align: right;\">\n",
       "      <th></th>\n",
       "      <th>A</th>\n",
       "      <th>B</th>\n",
       "      <th>C</th>\n",
       "      <th>D</th>\n",
       "    </tr>\n",
       "  </thead>\n",
       "  <tbody>\n",
       "    <tr>\n",
       "      <th>0</th>\n",
       "      <td>-0.674176</td>\n",
       "      <td>0.862655</td>\n",
       "      <td>-0.104141</td>\n",
       "      <td>0.311505</td>\n",
       "    </tr>\n",
       "    <tr>\n",
       "      <th>1</th>\n",
       "      <td>-0.337629</td>\n",
       "      <td>-0.672394</td>\n",
       "      <td>0.813563</td>\n",
       "      <td>-1.136500</td>\n",
       "    </tr>\n",
       "    <tr>\n",
       "      <th>2</th>\n",
       "      <td>0.351504</td>\n",
       "      <td>1.581076</td>\n",
       "      <td>-0.291674</td>\n",
       "      <td>-0.710857</td>\n",
       "    </tr>\n",
       "    <tr>\n",
       "      <th>3</th>\n",
       "      <td>-1.579043</td>\n",
       "      <td>0.762681</td>\n",
       "      <td>1.012506</td>\n",
       "      <td>NaN</td>\n",
       "    </tr>\n",
       "  </tbody>\n",
       "</table>\n",
       "</div>"
      ],
      "text/plain": [
       "          A         B         C         D\n",
       "0 -0.674176  0.862655 -0.104141  0.311505\n",
       "1 -0.337629 -0.672394  0.813563 -1.136500\n",
       "2  0.351504  1.581076 -0.291674 -0.710857\n",
       "3 -1.579043  0.762681  1.012506       NaN"
      ]
     },
     "execution_count": 13,
     "metadata": {},
     "output_type": "execute_result"
    }
   ],
   "source": [
    "df1.combine_first(df2)"
   ]
  },
  {
   "cell_type": "code",
   "execution_count": null,
   "metadata": {},
   "outputs": [],
   "source": []
  }
 ],
 "metadata": {
  "kernelspec": {
   "display_name": "Python 3",
   "language": "python",
   "name": "python3"
  },
  "language_info": {
   "codemirror_mode": {
    "name": "ipython",
    "version": 3
   },
   "file_extension": ".py",
   "mimetype": "text/x-python",
   "name": "python",
   "nbconvert_exporter": "python",
   "pygments_lexer": "ipython3",
   "version": "3.8.2"
  }
 },
 "nbformat": 4,
 "nbformat_minor": 4
}
