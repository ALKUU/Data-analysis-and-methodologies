{
 "cells": [
  {
   "cell_type": "code",
   "execution_count": 3,
   "metadata": {},
   "outputs": [],
   "source": [
    "import numpy as np\n",
    "import pandas as pd\n",
    "from pandas import Series,DataFrame"
   ]
  },
  {
   "cell_type": "code",
   "execution_count": 7,
   "metadata": {},
   "outputs": [
    {
     "name": "stdout",
     "output_type": "stream",
     "text": [
      "attributes  A  B  C  D\n",
      "countries             \n",
      "America     0  1  2  3\n",
      "China       4  5  6  7\n"
     ]
    }
   ],
   "source": [
    "df=DataFrame(np.arange(8).reshape(2,4),index=pd.Index(['America','China'],name='countries'),columns=pd.Index(list('ABCD'),name=\"attributes\"))\n",
    "print(df)"
   ]
  },
  {
   "cell_type": "code",
   "execution_count": 8,
   "metadata": {},
   "outputs": [
    {
     "name": "stdout",
     "output_type": "stream",
     "text": [
      "countries  attributes\n",
      "America    A             0\n",
      "           B             1\n",
      "           C             2\n",
      "           D             3\n",
      "China      A             4\n",
      "           B             5\n",
      "           C             6\n",
      "           D             7\n",
      "dtype: int32\n"
     ]
    }
   ],
   "source": [
    "stackdf=df.stack()\n",
    "print(stackdf)"
   ]
  },
  {
   "cell_type": "code",
   "execution_count": 9,
   "metadata": {},
   "outputs": [
    {
     "name": "stdout",
     "output_type": "stream",
     "text": [
      "attributes  A  B  C  D\n",
      "countries             \n",
      "America     0  1  2  3\n",
      "China       4  5  6  7\n"
     ]
    }
   ],
   "source": [
    "unstackdf=stackdf.unstack()\n",
    "print(unstackdf)"
   ]
  },
  {
   "cell_type": "code",
   "execution_count": 10,
   "metadata": {},
   "outputs": [
    {
     "name": "stdout",
     "output_type": "stream",
     "text": [
      "countries   America  China\n",
      "attributes                \n",
      "A                 0      4\n",
      "B                 1      5\n",
      "C                 2      6\n",
      "D                 3      7\n"
     ]
    }
   ],
   "source": [
    "#unstack along column or index\n",
    "df2=stackdf.unstack('countries')\n",
    "print(df2)"
   ]
  },
  {
   "cell_type": "code",
   "execution_count": 11,
   "metadata": {},
   "outputs": [
    {
     "name": "stdout",
     "output_type": "stream",
     "text": [
      "attributes  A  B  C  D\n",
      "countries             \n",
      "America     0  1  2  3\n",
      "China       4  5  6  7\n"
     ]
    }
   ],
   "source": [
    "df3=stackdf.unstack('attributes')\n",
    "print(df3)"
   ]
  },
  {
   "cell_type": "code",
   "execution_count": 12,
   "metadata": {},
   "outputs": [
    {
     "name": "stdout",
     "output_type": "stream",
     "text": [
      "A     5\n",
      "B    10\n",
      "C    15\n",
      "dtype: int64\n"
     ]
    }
   ],
   "source": [
    "#stacking and unstacking series\n",
    "s1=Series([5,10,15],index=list('ABC'))\n",
    "print(s1)"
   ]
  },
  {
   "cell_type": "code",
   "execution_count": 13,
   "metadata": {},
   "outputs": [
    {
     "name": "stdout",
     "output_type": "stream",
     "text": [
      "B    20\n",
      "C    25\n",
      "D    30\n",
      "dtype: int64\n"
     ]
    }
   ],
   "source": [
    "s2=Series([20,25,30],index=list('BCD'))\n",
    "print(s2)"
   ]
  },
  {
   "cell_type": "code",
   "execution_count": 14,
   "metadata": {},
   "outputs": [
    {
     "name": "stdout",
     "output_type": "stream",
     "text": [
      "k1  A     5\n",
      "    B    10\n",
      "    C    15\n",
      "k2  B    20\n",
      "    C    25\n",
      "    D    30\n",
      "dtype: int64\n"
     ]
    }
   ],
   "source": [
    "s3=pd.concat([s1,s2],keys=['k1','k2'])\n",
    "print(s3)"
   ]
  },
  {
   "cell_type": "code",
   "execution_count": 17,
   "metadata": {},
   "outputs": [
    {
     "name": "stdout",
     "output_type": "stream",
     "text": [
      "      A     B     C     D\n",
      "k1  5.0  10.0  15.0   NaN\n",
      "k2  NaN  20.0  25.0  30.0\n"
     ]
    }
   ],
   "source": [
    "df_series=s3.unstack()\n",
    "print(df_series)"
   ]
  },
  {
   "cell_type": "raw",
   "metadata": {},
   "source": [
    "df_series.stack()"
   ]
  },
  {
   "cell_type": "code",
   "execution_count": null,
   "metadata": {},
   "outputs": [],
   "source": []
  }
 ],
 "metadata": {
  "kernelspec": {
   "display_name": "Python 3",
   "language": "python",
   "name": "python3"
  },
  "language_info": {
   "codemirror_mode": {
    "name": "ipython",
    "version": 3
   },
   "file_extension": ".py",
   "mimetype": "text/x-python",
   "name": "python",
   "nbconvert_exporter": "python",
   "pygments_lexer": "ipython3",
   "version": "3.8.2"
  }
 },
 "nbformat": 4,
 "nbformat_minor": 4
}
